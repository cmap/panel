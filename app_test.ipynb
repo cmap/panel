{
 "cells": [
  {
   "cell_type": "code",
   "execution_count": null,
   "id": "1412b05e-18ab-4c6d-84bd-d46a44dae158",
   "metadata": {
    "tags": []
   },
   "outputs": [],
   "source": [
    "import pandas as pd\n",
    "import panel as pn\n",
    "pn.extension()\n",
    "from prism_tools import read_build"
   ]
  },
  {
   "cell_type": "code",
   "execution_count": null,
   "id": "62ec9cf7-515f-46cf-8fc7-c723ec09722c",
   "metadata": {
    "tags": []
   },
   "outputs": [],
   "source": [
    "#build = read_build.read_build_from_s3('MTS023')\n",
    "#mfi = build.mfi\n",
    "#cnt = build.count"
   ]
  },
  {
   "cell_type": "code",
   "execution_count": null,
   "id": "059a39db-1fb5-452d-8ca4-8dabb81397b9",
   "metadata": {
    "tags": []
   },
   "outputs": [],
   "source": [
    "@pn.depends('button.clicks')\n",
    "def load_data(clicks):\n",
    "    if clicks == 1:\n",
    "        df = pd.read_csv('large_dataframe.csv')\n",
    "        pn.state.cache['df'] = df\n",
    "    else:\n",
    "        df = pn.state.cache['df']\n",
    "    return df\n",
    "\n",
    "button = pn.widgets.Button(name='Load data')\n",
    "app = pn.Column(button, load_data)"
   ]
  },
  {
   "cell_type": "code",
   "execution_count": null,
   "id": "2b5b0d52-1211-4125-ab82-e1d74d6e9bd4",
   "metadata": {
    "tags": []
   },
   "outputs": [],
   "source": [
    "import panel as pn\n",
    "\n",
    "def my_app():\n",
    "    text_input = pn.widgets.TextInput(name='Enter text here:')\n",
    "    @pn.depends(text_input.param.value)\n",
    "    def output(value):\n",
    "        return value\n",
    "\n",
    "    return pn.Column(text_input, output)\n",
    "\n",
    "my_app().servable()"
   ]
  },
  {
   "cell_type": "code",
   "execution_count": null,
   "id": "0f4859dd-6bfd-406b-9312-4033ccd56d5e",
   "metadata": {},
   "outputs": [],
   "source": []
  }
 ],
 "metadata": {
  "kernelspec": {
   "display_name": "Python 3 (ipykernel)",
   "language": "python",
   "name": "python3"
  },
  "language_info": {
   "codemirror_mode": {
    "name": "ipython",
    "version": 3
   },
   "file_extension": ".py",
   "mimetype": "text/x-python",
   "name": "python",
   "nbconvert_exporter": "python",
   "pygments_lexer": "ipython3",
   "version": "3.11.4"
  }
 },
 "nbformat": 4,
 "nbformat_minor": 5
}
